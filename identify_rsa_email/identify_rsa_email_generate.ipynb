{
 "cells": [
  {
   "cell_type": "code",
   "execution_count": 31,
   "metadata": {},
   "outputs": [],
   "source": [
    "import secrets\n",
    "import string\n",
    "import pandas as pd\n",
    "import hashlib\n",
    "import base64\n",
    "import os\n",
    "\n",
    "from cryptography.hazmat.backends import default_backend\n",
    "from cryptography.hazmat.primitives.asymmetric import rsa\n",
    "from cryptography.hazmat.primitives import serialization\n",
    "from cryptography.hazmat.primitives.asymmetric import padding\n",
    "from cryptography.hazmat.primitives import hashes\n",
    "\n"
   ]
  },
  {
   "cell_type": "code",
   "execution_count": 32,
   "metadata": {},
   "outputs": [],
   "source": [
    "csv_path = \"../modified_data/hotel_booking_token.csv\"\n",
    "csv_output_path = \"../modified_data/hotel_booking_token_rsaemail.csv\"\n",
    "public_path = \"public_key.pem\""
   ]
  },
  {
   "cell_type": "code",
   "execution_count": 33,
   "metadata": {},
   "outputs": [],
   "source": [
    "\n",
    "def generate_keys():\n",
    "    if os.path.exists(public_path):\n",
    "      return\n",
    "    # Generate private key\n",
    "    private_key = rsa.generate_private_key(\n",
    "        public_exponent=65537,\n",
    "        key_size=2048,\n",
    "        backend=default_backend()\n",
    "    )\n",
    "    \n",
    "    # Generate public key\n",
    "    public_key = private_key.public_key()\n",
    "    \n",
    "    # Save the private key\n",
    "    with open(\"private_key.pem\", \"wb\") as f:\n",
    "        f.write(private_key.private_bytes(\n",
    "            encoding=serialization.Encoding.PEM,\n",
    "            format=serialization.PrivateFormat.PKCS8,\n",
    "            encryption_algorithm=serialization.NoEncryption()\n",
    "        ))\n",
    "    \n",
    "    # Save the public key\n",
    "    with open(\"public_key.pem\", \"wb\") as f:\n",
    "        f.write(public_key.public_bytes(\n",
    "            encoding=serialization.Encoding.PEM,\n",
    "            format=serialization.PublicFormat.SubjectPublicKeyInfo\n",
    "        ))\n",
    "# Usage\n",
    "generate_keys()\n"
   ]
  },
  {
   "cell_type": "code",
   "execution_count": 34,
   "metadata": {},
   "outputs": [
    {
     "name": "stdout",
     "output_type": "stream",
     "text": [
      "Encrypted: B7qo1KbofWkZwo0cF2wOxQg3seznrbZaThmMiVlXwFJIur5cXLuwu/QlfGgCkVhfuVP+LAqkX+VCkpPRd69NzzCbmgvByzNJ4AyrIoTWVPP5/jG7qo9s9rlXZHT41f8Lysw4TgXE4gmR4H0EzmZKezTASUSmjMhVCTuI9NSCtpuExu+CMg7DCGy3FIeoNfL7GQVx5SVwYnqmpp0ruhZJnr5KdG4AN0muRLNxntTdB04W7+YqM8I1Ty8RPpSJkJHVqnIJsrJoMxVLUwmNcshR1Y2aaTi86fASYgZ/5jRd1b/5k21BkzTtPAAghn2Q2ZoR+o+8RIjudpo1CyzUFhdOHg==\n",
      "Decrypted: Hello, this is a secret message!\n"
     ]
    }
   ],
   "source": [
    "\n",
    "# Load public key\n",
    "with open(\"public_key.pem\", \"rb\") as f:\n",
    "    public_key = serialization.load_pem_public_key(\n",
    "        f.read(),\n",
    "        backend=default_backend()\n",
    "    )\n",
    "# Load private key\n",
    "with open(\"private_key.pem\", \"rb\") as f:\n",
    "    private_key = serialization.load_pem_private_key(\n",
    "        f.read(),\n",
    "        password=None,\n",
    "        backend=default_backend()\n",
    "    )\n",
    "\n",
    "def encrypt_message(message):\n",
    "    # Encrypt message\n",
    "    encrypted = base64.b64encode(public_key.encrypt(\n",
    "        message.encode(),\n",
    "        padding.OAEP(\n",
    "            mgf=padding.MGF1(algorithm=hashes.SHA256()),\n",
    "            algorithm=hashes.SHA256(),\n",
    "            label=None\n",
    "        )\n",
    "    )).decode('utf-8')\n",
    "    return encrypted\n",
    "\n",
    "def decrypt_message(encrypted_message):\n",
    "    # Decrypt message\n",
    "    original_message = private_key.decrypt(\n",
    "        base64.b64decode(encrypted_message),\n",
    "        padding.OAEP(\n",
    "            mgf=padding.MGF1(algorithm=hashes.SHA256()),\n",
    "            algorithm=hashes.SHA256(),\n",
    "            label=None\n",
    "        )\n",
    "    )\n",
    "    return original_message.decode()\n",
    "\n",
    "encrypted_message = encrypt_message(\"Hello, this is a secret message!\")\n",
    "print(\"Encrypted:\", encrypted_message)\n",
    "decrypted_message = decrypt_message(encrypted_message)\n",
    "print(\"Decrypted:\", decrypted_message)"
   ]
  },
  {
   "cell_type": "code",
   "execution_count": 35,
   "metadata": {},
   "outputs": [],
   "source": [
    "total = 0\n",
    "file_path = csv_path\n",
    "simple_data = pd.read_csv(file_path)\n",
    "\n",
    "total=len(simple_data)\n"
   ]
  },
  {
   "cell_type": "code",
   "execution_count": 36,
   "metadata": {},
   "outputs": [
    {
     "name": "stdout",
     "output_type": "stream",
     "text": [
      "CNrQjb7mh0zByrLQwfn4ZOmO04whfPx/dwxF5RyVuTANqRc86lW/3uLIzCLVbfSBctPvm8g8jEr7mT2GdDQG1Vvaih8k6ps1Mt6BzQKQ7+3/4IVwtN5tzsOdtsEZmP9asSInYYmObhad8PG+HI61yelQc62UaEGvS8ecUY9DS4aNOwe5o2vVaEPkrKSGNno8+TRA4WUnUy7bxPf0rYORvRsXjs7u/xklZGzXHy238ltG0s/Mhu5JQpydgEy+gdhKsZuZvF9SETPM01IkMnG7cPrWrX9a9Evl0BHEAuexqK1l0Pso0LYP+6/EcJsITVKrKRhw5a65dkhI6iGZB6ZumQ==\n",
      "Ernest.Barnes31@outlook.com\n"
     ]
    }
   ],
   "source": [
    "encrpyted_emails = []\n",
    "\n",
    "simple_data['email'] = simple_data['email'].apply(lambda x: encrypt_message(x))\n",
    "print(simple_data['email'].values[0])\n",
    "print(decrypt_message(simple_data['email'].values[0]))\n",
    "\n",
    "simple_data.to_csv(csv_output_path, index=False)"
   ]
  }
 ],
 "metadata": {
  "kernelspec": {
   "display_name": "Python 3",
   "language": "python",
   "name": "python3"
  },
  "language_info": {
   "codemirror_mode": {
    "name": "ipython",
    "version": 3
   },
   "file_extension": ".py",
   "mimetype": "text/x-python",
   "name": "python",
   "nbconvert_exporter": "python",
   "pygments_lexer": "ipython3",
   "version": "3.9.8"
  }
 },
 "nbformat": 4,
 "nbformat_minor": 2
}
