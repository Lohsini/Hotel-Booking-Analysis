{
 "cells": [
  {
   "cell_type": "code",
   "execution_count": 25,
   "metadata": {},
   "outputs": [],
   "source": [
    "import secrets\n",
    "import string\n",
    "import pandas as pd\n",
    "import hashlib\n",
    "import base64\n",
    "import os\n",
    "\n",
    "from cryptography.hazmat.backends import default_backend\n",
    "from cryptography.hazmat.primitives.asymmetric import rsa\n",
    "from cryptography.hazmat.primitives import serialization\n",
    "from cryptography.hazmat.primitives.asymmetric import padding\n",
    "from cryptography.hazmat.primitives import hashes\n",
    "\n"
   ]
  },
  {
   "cell_type": "code",
   "execution_count": 26,
   "metadata": {},
   "outputs": [],
   "source": [
    "csv_path = \"../modified_data/hotel_booking_token.csv\"\n",
    "csv_output_path = \"../modified_data/hotel_booking_token_rsaemail.csv\"\n",
    "public_path = \"public_key.pem\""
   ]
  },
  {
   "cell_type": "code",
   "execution_count": 27,
   "metadata": {},
   "outputs": [],
   "source": [
    "\n",
    "def generate_keys():\n",
    "    if os.path.exists(public_path):\n",
    "      return\n",
    "    # Generate private key\n",
    "    private_key = rsa.generate_private_key(\n",
    "        public_exponent=65537,\n",
    "        key_size=2048,\n",
    "        backend=default_backend()\n",
    "    )\n",
    "    \n",
    "    # Generate public key\n",
    "    public_key = private_key.public_key()\n",
    "    \n",
    "    # Save the private key\n",
    "    with open(\"private_key.pem\", \"wb\") as f:\n",
    "        f.write(private_key.private_bytes(\n",
    "            encoding=serialization.Encoding.PEM,\n",
    "            format=serialization.PrivateFormat.PKCS8,\n",
    "            encryption_algorithm=serialization.NoEncryption()\n",
    "        ))\n",
    "    \n",
    "    # Save the public key\n",
    "    with open(\"public_key.pem\", \"wb\") as f:\n",
    "        f.write(public_key.public_bytes(\n",
    "            encoding=serialization.Encoding.PEM,\n",
    "            format=serialization.PublicFormat.SubjectPublicKeyInfo\n",
    "        ))\n",
    "# Usage\n",
    "generate_keys()\n"
   ]
  },
  {
   "cell_type": "code",
   "execution_count": 28,
   "metadata": {},
   "outputs": [
    {
     "name": "stdout",
     "output_type": "stream",
     "text": [
      "Encrypted: cLxxQe8ebjSTOCnJhz9Am5I/AC9UqePj9yVE7SX9q26SDxVNrxk4p5iYKC4BKsW3OOACzSqzJTTXz/wqmlpDeEYPRlHDqwRaK9ezRAwe47cpQFCwcz0jyhRWGcasOh5lTbRAjYT2HGrigkiCYaeaz55aXYh/KIuDGaYKhxsE3DwzA7Nuxv0Na2KPHqe5GsXXgFCOKEzoPSexChSRs79fmoDssJKrSnIVH8urzQh+E+n5em/eCmSxOsAU9RzDx61tt8fzNE62i9zbjY0gE53aDRi7vPfOSzb9EdYe7uje0kvqp/SsNxNHMV7aJzCveZUmOgoyjw1+y/1gXC+0OqtA9g==\n",
      "Decrypted: Hello, this is a secret message!\n"
     ]
    }
   ],
   "source": [
    "\n",
    "# Load public key\n",
    "with open(\"public_key.pem\", \"rb\") as f:\n",
    "    public_key = serialization.load_pem_public_key(\n",
    "        f.read(),\n",
    "        backend=default_backend()\n",
    "    )\n",
    "# Load private key\n",
    "with open(\"private_key.pem\", \"rb\") as f:\n",
    "    private_key = serialization.load_pem_private_key(\n",
    "        f.read(),\n",
    "        password=None,\n",
    "        backend=default_backend()\n",
    "    )\n",
    "\n",
    "def encrypt_message(message):\n",
    "    # Encrypt message\n",
    "    encrypted = base64.b64encode(public_key.encrypt(\n",
    "        message.encode(),\n",
    "        padding.OAEP(\n",
    "            mgf=padding.MGF1(algorithm=hashes.SHA256()),\n",
    "            algorithm=hashes.SHA256(),\n",
    "            label=None\n",
    "        )\n",
    "    )).decode('utf-8')\n",
    "    return encrypted\n",
    "\n",
    "def decrypt_message(encrypted_message):\n",
    "    # Decrypt message\n",
    "    original_message = private_key.decrypt(\n",
    "        base64.b64decode(encrypted_message),\n",
    "        padding.OAEP(\n",
    "            mgf=padding.MGF1(algorithm=hashes.SHA256()),\n",
    "            algorithm=hashes.SHA256(),\n",
    "            label=None\n",
    "        )\n",
    "    )\n",
    "    return original_message.decode()\n",
    "\n",
    "encrypted_message = encrypt_message(\"Hello, this is a secret message!\")\n",
    "print(\"Encrypted:\", encrypted_message)\n",
    "decrypted_message = decrypt_message(encrypted_message)\n",
    "print(\"Decrypted:\", decrypted_message)"
   ]
  },
  {
   "cell_type": "code",
   "execution_count": 29,
   "metadata": {},
   "outputs": [],
   "source": [
    "total = 0\n",
    "file_path = csv_path\n",
    "simple_data = pd.read_csv(file_path)\n",
    "\n",
    "total=len(simple_data)\n"
   ]
  },
  {
   "cell_type": "code",
   "execution_count": 30,
   "metadata": {},
   "outputs": [
    {
     "name": "stdout",
     "output_type": "stream",
     "text": [
      "jY3RfrGZR/hcgfEYjqCd0fLcgVxGsvL3jpHBhXECZDwn/oBc7aOb3sZpVNR418QmnAuei1P5FryzL2d4UdPRkwKfQ0c+jRI5wWvZc+G5QuUgO8SIZY2b5ugvSMc7hlJZXAx0hEXGAyX6uVSozcAe9dwpKX+dZ+ON3znYpKpRw+UwpULh9f+yDcsayo4EtMp3PEa63gezsv8R+6l/Ijnw0wTETT/k3fVPRHR48kEznMXlx025ZXTX2lFA3Z9+lFW7Da6FqiJnA8pJXVF++XaRF/DBbYvp/Pnfdz46uuftHQB2kQHfqtPvDe6RKKbTG40K9wzR7t1MTE8xt6vgc6zANw==\n",
      "Ernest.Barnes31@outlook.com\n"
     ]
    }
   ],
   "source": [
    "encrpyted_emails = []\n",
    "\n",
    "simple_data['email'] = simple_data['email'].apply(lambda x: encrypt_message(x))\n",
    "print(simple_data['email'].values[0])\n",
    "print(decrypt_message(simple_data['email'].values[0]))\n",
    "\n",
    "simple_data.to_csv(csv_output_path, index=False)"
   ]
  }
 ],
 "metadata": {
  "kernelspec": {
   "display_name": "Python 3",
   "language": "python",
   "name": "python3"
  },
  "language_info": {
   "codemirror_mode": {
    "name": "ipython",
    "version": 3
   },
   "file_extension": ".py",
   "mimetype": "text/x-python",
   "name": "python",
   "nbconvert_exporter": "python",
   "pygments_lexer": "ipython3",
   "version": "3.9.8"
  }
 },
 "nbformat": 4,
 "nbformat_minor": 2
}
