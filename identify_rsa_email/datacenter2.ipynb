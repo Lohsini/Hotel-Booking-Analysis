{
 "cells": [
  {
   "cell_type": "code",
   "execution_count": 64,
   "metadata": {},
   "outputs": [],
   "source": [
    "import secrets\n",
    "import string\n",
    "import pandas as pd\n",
    "import hashlib\n",
    "import base64\n",
    "\n",
    "\n",
    "from cryptography.hazmat.backends import default_backend\n",
    "from cryptography.hazmat.primitives.asymmetric import rsa\n",
    "from cryptography.hazmat.primitives import serialization\n",
    "from cryptography.hazmat.primitives.asymmetric import padding\n",
    "from cryptography.hazmat.primitives import hashes\n",
    "\n"
   ]
  },
  {
   "cell_type": "code",
   "execution_count": 65,
   "metadata": {},
   "outputs": [],
   "source": [
    "csv_path = \"../modified_data/hotel_booking_simple_age_token_rsaemail.csv\""
   ]
  },
  {
   "cell_type": "code",
   "execution_count": 66,
   "metadata": {},
   "outputs": [],
   "source": [
    "\n",
    "# Load private key\n",
    "with open(\"private_key.pem\", \"rb\") as f:\n",
    "    private_key = serialization.load_pem_private_key(\n",
    "        f.read(),\n",
    "        password=None,\n",
    "        backend=default_backend()\n",
    "    )\n",
    "    \n",
    "def decrypt_message(encrypted_message):\n",
    "    # Decrypt message\n",
    "    original_message = private_key.decrypt(\n",
    "        base64.b64decode(encrypted_message),\n",
    "        padding.OAEP(\n",
    "            mgf=padding.MGF1(algorithm=hashes.SHA256()),\n",
    "            algorithm=hashes.SHA256(),\n",
    "            label=None\n",
    "        )\n",
    "    )\n",
    "    return original_message.decode()\n"
   ]
  },
  {
   "cell_type": "code",
   "execution_count": 67,
   "metadata": {},
   "outputs": [],
   "source": [
    "total = 0\n",
    "file_path = csv_path\n",
    "simple_data = pd.read_csv(file_path)\n",
    "\n",
    "total=len(simple_data)\n"
   ]
  },
  {
   "cell_type": "code",
   "execution_count": 72,
   "metadata": {},
   "outputs": [
    {
     "name": "stdout",
     "output_type": "stream",
     "text": [
      "Ernest.Barnes31@outlook.com\n",
      "Andrea_Baker94@aol.com\n",
      "Rebecca_Parker@comcast.net\n",
      "Laura_M@gmail.com\n",
      "LHines@verizon.com\n",
      "JFletcher43@xfinity.com\n",
      "Rangel.Dylan@comcast.net\n",
      "Velez_William@mail.com\n",
      "Steven.Murphy54@aol.com\n",
      "MichaelMoore81@outlook.com\n",
      "PhD.Priscilla74@att.com\n",
      "Smith.Laurie@att.com\n",
      "Casey_T78@outlook.com\n",
      "Rachel.F@protonmail.com\n",
      "Edward.T@zoho.com\n",
      "Zavala_Samuel46@xfinity.com\n",
      "Dr.Martin@xfinity.com\n",
      "Sara.L@hotmail.com\n",
      "CRodriguez@verizon.com\n",
      "StephanieSchmidt@hotmail.com\n"
     ]
    }
   ],
   "source": [
    "\n",
    "for row in simple_data['email'].values[:20]:\n",
    "  print(decrypt_message(row))\n"
   ]
  }
 ],
 "metadata": {
  "kernelspec": {
   "display_name": "Python 3",
   "language": "python",
   "name": "python3"
  },
  "language_info": {
   "codemirror_mode": {
    "name": "ipython",
    "version": 3
   },
   "file_extension": ".py",
   "mimetype": "text/x-python",
   "name": "python",
   "nbconvert_exporter": "python",
   "pygments_lexer": "ipython3",
   "version": "3.9.8"
  }
 },
 "nbformat": 4,
 "nbformat_minor": 2
}
