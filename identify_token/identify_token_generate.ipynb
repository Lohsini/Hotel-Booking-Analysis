{
 "cells": [
  {
   "cell_type": "code",
   "execution_count": 112,
   "metadata": {},
   "outputs": [],
   "source": [
    "import secrets\n",
    "import string\n",
    "import pandas as pd\n",
    "import hashlib\n"
   ]
  },
  {
   "cell_type": "code",
   "execution_count": 113,
   "metadata": {},
   "outputs": [],
   "source": [
    "csv_path = \"../data/hotel_booking.csv\"\n",
    "csv_output_path = \"../modified_data/hotel_booking_token.csv\"\n",
    "pwd_file = \"random_passwords.txt\""
   ]
  },
  {
   "cell_type": "code",
   "execution_count": 114,
   "metadata": {},
   "outputs": [],
   "source": [
    "\n",
    "def generate_password(length=12):\n",
    "\n",
    "    characters = string.ascii_letters + string.digits + string.punctuation\n",
    "\n",
    "\n",
    "    password = ''.join(secrets.choice(characters) for i in range(length))\n",
    "\n",
    "    return password\n",
    "\n",
    "random_password = generate_password()\n"
   ]
  },
  {
   "cell_type": "code",
   "execution_count": 115,
   "metadata": {},
   "outputs": [],
   "source": [
    "total = 0\n",
    "file_path = csv_path\n",
    "simple_data = pd.read_csv(file_path)\n",
    "\n",
    "total=len(simple_data)\n"
   ]
  },
  {
   "cell_type": "code",
   "execution_count": 116,
   "metadata": {},
   "outputs": [],
   "source": [
    "def save_passwords(file_path, num_passwords=1000):\n",
    "    pwds = []\n",
    "    with open(file_path, 'w') as file:\n",
    "        for _ in range(num_passwords):\n",
    "            password = generate_password()\n",
    "            pwds.append(password)\n",
    "            file.write(password + '\\n')\n",
    "    return pwds"
   ]
  },
  {
   "cell_type": "code",
   "execution_count": 117,
   "metadata": {},
   "outputs": [],
   "source": [
    "pwds = save_passwords(pwd_file, total)"
   ]
  },
  {
   "cell_type": "code",
   "execution_count": 118,
   "metadata": {},
   "outputs": [],
   "source": [
    "def hash_password(password):\n",
    "    hasher = hashlib.md5()\n",
    "    hasher.update(password.encode('utf-8'))\n",
    "    return hasher.hexdigest()"
   ]
  },
  {
   "cell_type": "code",
   "execution_count": 119,
   "metadata": {},
   "outputs": [],
   "source": [
    "\n",
    "hashed_pwds = []\n",
    "for pwd in pwds:\n",
    "  hashedp_pwd = hash_password(pwd)\n",
    "  hashed_pwds.append(hashedp_pwd)\n",
    "\n",
    "simple_data['token'] = hashed_pwds\n",
    "simple_data.to_csv(csv_output_path, index=False)"
   ]
  }
 ],
 "metadata": {
  "kernelspec": {
   "display_name": "Python 3",
   "language": "python",
   "name": "python3"
  },
  "language_info": {
   "codemirror_mode": {
    "name": "ipython",
    "version": 3
   },
   "file_extension": ".py",
   "mimetype": "text/x-python",
   "name": "python",
   "nbconvert_exporter": "python",
   "pygments_lexer": "ipython3",
   "version": "3.9.8"
  }
 },
 "nbformat": 4,
 "nbformat_minor": 2
}
